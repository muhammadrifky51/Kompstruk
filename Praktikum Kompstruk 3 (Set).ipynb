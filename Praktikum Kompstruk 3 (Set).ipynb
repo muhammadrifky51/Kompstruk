{
 "cells": [
  {
   "cell_type": "code",
   "execution_count": 1,
   "metadata": {},
   "outputs": [],
   "source": [
    "# Implementation of the Set ADT container using a Python list.\n",
    "class Set:\n",
    "    # Creates an empty set instance.\n",
    "    def __init__( self ):\n",
    "        self._theElements = list()\n",
    "    # to print the set\n",
    "    def __str__( self ):\n",
    "        return str( self._theElements )\n",
    "    # Returns the number of items in the set.\n",
    "    def __len__( self ):\n",
    "        return len( self._theElements )\n",
    "    # Determines if an element is in the set.\n",
    "    def __contains__( self, element ):\n",
    "        return element in self._theElements\n",
    "    # Adds a new unique element to the set.\n",
    "    def add( self, element ):\n",
    "        if element not in self :\n",
    "            self._theElements.append( element )\n",
    "    # Removes an element from the set.\n",
    "    def remove( self, element ):\n",
    "        assert element in self, \"The element must be in the set.\"\n",
    "        self._theElements.remove( element )\n",
    "    # Determines if two sets are equal.\n",
    "    def __eq__( self, setB ):\n",
    "        if len( self ) != len( setB ):\n",
    "            return False\n",
    "        else:\n",
    "            return self.isSubsetOf( setB )\n",
    "    # Determines if this set is a subset of setB.\n",
    "    def isSubsetOf( self, setB ):\n",
    "        for element in self :\n",
    "            if element not in setB :\n",
    "                return False\n",
    "        return True\n",
    "    # Creates a new set from the union of this set and setB.\n",
    "    def union( self, setB ):\n",
    "        newSet = Set()\n",
    "        newSet._theElements.extend( self._theElements )\n",
    "        for element in setB :\n",
    "            if element not in self :\n",
    "                newSet._theElements.append( element )\n",
    "        return newSet\n",
    "    # Creates a new set from the intersection: self set and setB.\n",
    "    def intersect( self, setB ):\n",
    "        newSet = Set()\n",
    "\n",
    "        # Creates a new set from the difference: self set and setB.\n",
    "    def difference( self, setB ):\n",
    "        pass#......\n",
    "    # Returns an iterator for traversing the list of items.\n",
    "    def __iter__( self ):\n",
    "        return iter( self._theElements )"
   ]
  },
  {
   "cell_type": "code",
   "execution_count": 2,
   "metadata": {
    "scrolled": true
   },
   "outputs": [
    {
     "name": "stdout",
     "output_type": "stream",
     "text": [
      "[0, 2, 4, 6, 8, 10, 12, 14, 16, 18, 20, 22, 24, 26, 28]\n",
      "[0, 3, 6, 9, 12, 15, 18, 21, 24, 27]\n",
      "[0, 6, 12, 18, 24]\n",
      "False\n",
      "True\n"
     ]
    }
   ],
   "source": [
    "Kelipatan2=Set()\n",
    "Kelipatan3=Set()\n",
    "Kelipatan6=Set()\n",
    "for i in range(30):\n",
    "    if i%2==0:Kelipatan2.add(i)\n",
    "    if i%3==0:Kelipatan3.add(i)\n",
    "    if i%6==0:Kelipatan6.add(i)\n",
    "print(Kelipatan2)\n",
    "print(Kelipatan3)\n",
    "print(Kelipatan6)\n",
    "print(Kelipatan3.isSubsetOf(Kelipatan2))\n",
    "print(Kelipatan6.isSubsetOf(Kelipatan2))"
   ]
  },
  {
   "cell_type": "code",
   "execution_count": 3,
   "metadata": {},
   "outputs": [
    {
     "name": "stdout",
     "output_type": "stream",
     "text": [
      "[0, 2, 4, 6, 8, 10, 12, 14, 16, 18, 20, 22, 24, 26, 28, 3, 9, 15, 21, 27]\n"
     ]
    }
   ],
   "source": [
    "Kelipatan_2_3=Kelipatan2.union(Kelipatan3)\n",
    "print(Kelipatan_2_3)"
   ]
  },
  {
   "cell_type": "code",
   "execution_count": null,
   "metadata": {},
   "outputs": [],
   "source": []
  }
 ],
 "metadata": {
  "kernelspec": {
   "display_name": "Python 3",
   "language": "python",
   "name": "python3"
  },
  "language_info": {
   "codemirror_mode": {
    "name": "ipython",
    "version": 3
   },
   "file_extension": ".py",
   "mimetype": "text/x-python",
   "name": "python",
   "nbconvert_exporter": "python",
   "pygments_lexer": "ipython3",
   "version": "3.6.5"
  }
 },
 "nbformat": 4,
 "nbformat_minor": 2
}
