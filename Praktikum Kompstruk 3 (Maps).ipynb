{
 "cells": [
  {
   "cell_type": "code",
   "execution_count": 5,
   "metadata": {},
   "outputs": [],
   "source": [
    "#download link: https://www.spoj.com/content/tjandra:maps.ipynb\n",
    "# Storage class for holding the key/value pairs.\n",
    "class _MapEntry :\n",
    "    def __init__( self, key, value ):\n",
    "        self.key = key\n",
    "        self.value = value\n",
    "# Implementation of Map ADT using a single list.\n",
    "class Map :\n",
    "    def __str__(self):\n",
    "        ret=\"\"\n",
    "        for a in self._entryList:\n",
    "            ret+=str(a.key)+\"\\t\"+str(a.value)+\"\\n\"\n",
    "        return ret\n",
    "    # Creates an empty map instance.\n",
    "    def __init__( self ):\n",
    "        self._entryList = list()\n",
    "    # Returns the number of entries in the map.\n",
    "    def __len__( self ):\n",
    "        return len( self._entryList )\n",
    "    # Determines if the map contains the given key.\n",
    "    def __contains__( self, key ):\n",
    "        ndx = self._findPosition( key )\n",
    "        return ndx is not None\n",
    "    # Adds a new entry to the map if the key does exist. Otherwise, the\n",
    "    # new value replaces the current value associated with the key.\n",
    "    def add( self, key, value ):\n",
    "        ndx = self._findPosition( key )\n",
    "        if ndx is not None : # if the key was found\n",
    "            self._entryList[ndx].value = value\n",
    "            return False\n",
    "        else : # otherwise add a new entry\n",
    "            entry = _MapEntry( key, value )\n",
    "            self._entryList.append( entry )\n",
    "            return True\n",
    "    # Returns the value associated with the key.\n",
    "    def valueOf( self, key ):\n",
    "        ndx = self._findPosition( key )\n",
    "        assert ndx is not None, \"Invalid map key.\"\n",
    "        return self._entryList[ndx].value\n",
    "    # Removes the entry associated with the key.\n",
    "    def remove( self, key ):\n",
    "        ndx = self._findPosition( key )\n",
    "        assert ndx is not None, \"Invalid map key.\"\n",
    "        self._entryList.pop( ndx )\n",
    "    # Returns an iterator for traversing the keys in the map.\n",
    "    def __iter__( self ):\n",
    "        return iter( self._entryList )\n",
    "    # Helper method used to find the index position of a category. If the\n",
    "    # key is not found, None is returned.\n",
    "    def _findPosition( self, key ):\n",
    "        # Iterate through each entry in the list.\n",
    "        for i in range( len(self) ) :\n",
    "            # Is the key stored in the ith entry?\n",
    "            if self._entryList[i].key == key :\n",
    "                return i\n",
    "            # When not found, return None.\n",
    "            return None"
   ]
  },
  {
   "cell_type": "code",
   "execution_count": 8,
   "metadata": {},
   "outputs": [
    {
     "name": "stdout",
     "output_type": "stream",
     "text": [
      "a \t 97\n",
      "b \t 98\n",
      "c \t 99\n",
      "d \t 100\n",
      "e \t 101\n",
      "f \t 102\n",
      "g \t 103\n",
      "h \t 104\n",
      "i \t 105\n",
      "j \t 106\n",
      "k \t 107\n",
      "l \t 108\n",
      "m \t 109\n",
      "n \t 110\n",
      "o \t 111\n",
      "p \t 112\n",
      "q \t 113\n",
      "r \t 114\n",
      "s \t 115\n",
      "t \t 116\n",
      "u \t 117\n",
      "v \t 118\n",
      "w \t 119\n",
      "x \t 120\n",
      "y \t 121\n"
     ]
    }
   ],
   "source": [
    "a=Map()\n",
    "for i in range(ord('a'),ord('z')):\n",
    "    a.add(chr(i),i)\n",
    "#print(a)\n",
    "for i in a:\n",
    "    print(i.key,'\\t',i.value)"
   ]
  },
  {
   "cell_type": "code",
   "execution_count": null,
   "metadata": {},
   "outputs": [],
   "source": []
  }
 ],
 "metadata": {
  "kernelspec": {
   "display_name": "Python 3",
   "language": "python",
   "name": "python3"
  },
  "language_info": {
   "codemirror_mode": {
    "name": "ipython",
    "version": 3
   },
   "file_extension": ".py",
   "mimetype": "text/x-python",
   "name": "python",
   "nbconvert_exporter": "python",
   "pygments_lexer": "ipython3",
   "version": "3.6.5"
  }
 },
 "nbformat": 4,
 "nbformat_minor": 2
}
