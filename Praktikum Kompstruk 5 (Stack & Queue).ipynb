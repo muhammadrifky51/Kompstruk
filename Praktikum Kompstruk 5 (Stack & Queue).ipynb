{
 "cells": [
  {
   "cell_type": "code",
   "execution_count": 1,
   "metadata": {
    "collapsed": true,
    "deletable": true,
    "editable": true
   },
   "outputs": [],
   "source": [
    "#Download link: https://www.spoj.com/content/tjandra:stack_queue.ipynb\n",
    "class ListNode:\n",
    "    def __init__(self,data):\n",
    "        self.data=data\n",
    "        self.next=None\n",
    "    def __str__(self):\n",
    "        return('({0},{1})'.format(self.data,self.next))\n",
    "    def __iter__(self):\n",
    "        self.now=self\n",
    "        return self\n",
    "    def __next__(self):\n",
    "        if self.now==None:\n",
    "            raise StopIteration\n",
    "        else:\n",
    "            ans=self.now\n",
    "            self.now=self.now.next\n",
    "            return ans\n",
    "    def __contains__(self,elem):\n",
    "        for x in self:\n",
    "            if x.data==elem:\n",
    "                return True\n",
    "        return False\n",
    "    def __len__(self):\n",
    "        ans=0\n",
    "        for x in self:\n",
    "            ans+=1\n",
    "        return ans\n",
    "    def push_front(self,elem):\n",
    "        tmp=ListNode(elem)\n",
    "        tmp.next=self\n",
    "        tmp.data=elem\n",
    "        return tmp\n",
    "    def push_back(self,elem):\n",
    "        tmp=self\n",
    "        while tmp.next!=None:\n",
    "            tmp=tmp.next\n",
    "        tmp.next=ListNode(elem)\n",
    "        return self\n",
    "    def remove_elem(self,elem,count=1):\n",
    "        tmp=self\n",
    "        ans=0\n",
    "        while tmp.next!=None:\n",
    "            if tmp.data==elem:\n",
    "                if tmp.next!=None:\n",
    "                    tmp.data=tmp.next.data\n",
    "                    tmp.next=tmp.next.next\n",
    "                else:\n",
    "                    tmp2=self\n",
    "                    while tmp2!=None:\n",
    "                        if tmp2.next==tmp:\n",
    "                            break\n",
    "                        tmp2=tmp2.next\n",
    "                    if tmp2!=None:\n",
    "                        tmp2.next=None\n",
    "                    else:\n",
    "                        print(\"Tidak dapat menghapus elemen tunggal\")\n",
    "                        return ans\n",
    "                count-=1\n",
    "                ans+=1\n",
    "                if count==0:break\n",
    "            else:\n",
    "                tmp=tmp.next\n",
    "        return ans\n",
    "    def insert_elem(self,elem,pos):\n",
    "        tmp=self\n",
    "        while pos!=0:\n",
    "            pos-=1\n",
    "            tmp=tmp.next\n",
    "            if tmp==None:\n",
    "                print(\"gagal, karena posisi tidak valid!\")\n",
    "                return\n",
    "        baru=ListNode(elem)\n",
    "        baru.next=tmp.next\n",
    "        tmp.next=baru\n",
    "        "
   ]
  },
  {
   "cell_type": "code",
   "execution_count": 2,
   "metadata": {
    "collapsed": true,
    "deletable": true,
    "editable": true
   },
   "outputs": [],
   "source": [
    "#Download link: https://www.spoj.com/content/tjandra:stack_queue.ipynb\n",
    "class Deck:\n",
    "    def __init__(self,data):\n",
    "        self.node=ListNode(data)\n",
    "    def __len__(self,data):\n",
    "        return len(self.node)\n",
    "    def __str__(self):\n",
    "        return str(self.node)\n",
    "    def push_back(self,elem):\n",
    "        self.node.push_back(elem)\n",
    "    def push_front(self,elem):\n",
    "        self.node=self.node.push_front(elem)\n",
    "    def pop_back(self):\n",
    "        if len(self.node)==1:\n",
    "            print(\"Tidak dapat menghapus elemen tunggal!\")\n",
    "            return\n",
    "        now=self.node\n",
    "        while now.next.next!=None:\n",
    "            now=now.next\n",
    "        now.next=None\n",
    "    def pop_front(self):\n",
    "        if len(self.node)==1:\n",
    "            print(\"Tidak dapat menghapus elemen tunggal!\")\n",
    "            return\n",
    "        self.node=self.node.next\n",
    "        return\n",
    "    def get_front(self):\n",
    "        return self.node.data\n",
    "    def get_back(self):\n",
    "        now=self.node\n",
    "        while now.next!=None:\n",
    "            now=now.next\n",
    "        return now.data"
   ]
  },
  {
   "cell_type": "code",
   "execution_count": 24,
   "metadata": {
    "collapsed": true,
    "deletable": true,
    "editable": true
   },
   "outputs": [],
   "source": [
    "#Download link: https://www.spoj.com/content/tjandra:stack_queue.ipynb\n",
    "class Queue:\n",
    "    def __init__(self,data):\n",
    "        self.node=Deck(data)\n",
    "    def __len__(self,data):\n",
    "        return len(self.node)\n",
    "    def __str__(self,data):\n",
    "        return str(self.node)\n",
    "    def enqueue(self,data):\n",
    "        self.node.push_back(data)\n",
    "    def dequeue(self):\n",
    "        ret=self.node.get_front()\n",
    "        self.node.pop_front()\n",
    "        return ret\n",
    "    def get_front(self):\n",
    "        return self.node.get_front()"
   ]
  },
  {
   "cell_type": "code",
   "execution_count": 29,
   "metadata": {
    "collapsed": false,
    "deletable": true,
    "editable": true
   },
   "outputs": [
    {
     "name": "stdout",
     "output_type": "stream",
     "text": [
      "1\n",
      "4\n",
      "9\n",
      "16\n"
     ]
    }
   ],
   "source": [
    "que=Queue(1)\n",
    "que.enqueue(4)\n",
    "que.enqueue(9)\n",
    "que.enqueue(16)\n",
    "print(que.dequeue())\n",
    "print(que.dequeue())\n",
    "print(que.dequeue())\n",
    "print(que.get_front())\n"
   ]
  },
  {
   "cell_type": "code",
   "execution_count": 22,
   "metadata": {
    "collapsed": true,
    "deletable": true,
    "editable": true
   },
   "outputs": [],
   "source": [
    "#Download link: https://www.spoj.com/content/tjandra:stack_queue.ipynb\n",
    "class Stack:\n",
    "    def __init__(self,data):\n",
    "        self.node=Deck(data)\n",
    "    def __len__(self,data):\n",
    "        return len(self.node)\n",
    "    def __str__(self,data):\n",
    "        return str(self.node)\n",
    "    def push(self,data):\n",
    "        self.node.push_back(data)\n",
    "    def pop(self):\n",
    "        self.node.pop_back()\n",
    "    def top(self):\n",
    "        return self.node.get_back()"
   ]
  },
  {
   "cell_type": "code",
   "execution_count": 23,
   "metadata": {
    "collapsed": false,
    "deletable": true,
    "editable": true
   },
   "outputs": [
    {
     "name": "stdout",
     "output_type": "stream",
     "text": [
      "16\n",
      "9\n"
     ]
    }
   ],
   "source": [
    "stk=Stack(1)\n",
    "stk.push(4)\n",
    "stk.push(9)\n",
    "stk.push(16)\n",
    "print(stk.top())\n",
    "stk.pop()\n",
    "print(stk.top())"
   ]
  },
  {
   "cell_type": "code",
   "execution_count": 5,
   "metadata": {
    "collapsed": false,
    "deletable": true,
    "editable": true
   },
   "outputs": [
    {
     "name": "stdout",
     "output_type": "stream",
     "text": [
      "(Tengah,None)\n",
      "(Tengah,(Kanan,None))\n",
      "(Kiri,(Tengah,(Kanan,None)))\n",
      "Kiri\n",
      "Kanan\n",
      "(Tengah,(Kanan,None))\n",
      "(Tengah,None)\n",
      "Tidak dapat menghapus elemen tunggal!\n"
     ]
    }
   ],
   "source": [
    "a=Deck(\"Tengah\")\n",
    "print(a)\n",
    "a.push_back(\"Kanan\")\n",
    "print(a)\n",
    "a.push_front(\"Kiri\")\n",
    "print(a)\n",
    "print(a.get_front())\n",
    "print(a.get_back())\n",
    "a.pop_front()\n",
    "print(a)\n",
    "a.pop_back()\n",
    "print(a)\n",
    "a.pop_front()"
   ]
  },
  {
   "cell_type": "code",
   "execution_count": 6,
   "metadata": {
    "collapsed": false,
    "deletable": true,
    "editable": true
   },
   "outputs": [
    {
     "data": {
      "text/plain": [
       "True"
      ]
     },
     "execution_count": 6,
     "metadata": {},
     "output_type": "execute_result"
    }
   ],
   "source": [
    "x=ListNode(4)\n",
    "x.push_back(7)\n",
    "x.push_back(9)\n",
    "x.push_back(11)\n",
    "\n",
    "4 in x\n",
    "#print(x.next.next.next.data)\n",
    "#print(x)\n",
    "#x.insert_elem(\"Ayam\",2)\n",
    "#print(x)"
   ]
  },
  {
   "cell_type": "code",
   "execution_count": 7,
   "metadata": {
    "collapsed": false,
    "deletable": true,
    "editable": true
   },
   "outputs": [
    {
     "name": "stdout",
     "output_type": "stream",
     "text": [
      "(1,(4,(9,(16,(25,None)))))\n",
      "1\n",
      "4\n",
      "9\n",
      "16\n",
      "25\n",
      "True\n",
      "5\n",
      "(1,(4,(9,(16,(25,None)))))\n",
      "(4,(9,(16,(25,None))))\n",
      "(1,(4,(9,(16,(25,None)))))\n"
     ]
    }
   ],
   "source": [
    "a=ListNode(1)\n",
    "a.push_back(4)\n",
    "a.push_back(9)\n",
    "a.push_back(16)\n",
    "a.push_back(25)\n",
    "print(a)\n",
    "for x in a:\n",
    "    print(x.data)\n",
    "print(4 in a)\n",
    "print(len(a))\n",
    "print(a)\n",
    "a.remove_elem(1)\n",
    "print(a)\n",
    "a=a.push_front(1)\n",
    "print(a)"
   ]
  },
  {
   "cell_type": "code",
   "execution_count": 8,
   "metadata": {
    "collapsed": false,
    "deletable": true,
    "editable": true
   },
   "outputs": [
    {
     "name": "stdout",
     "output_type": "stream",
     "text": [
      "(1,None)\n",
      "(1,(4,(9,(16,(25,None)))))\n",
      "4\n"
     ]
    }
   ],
   "source": [
    "a=ListNode(1)\n",
    "print(a)\n",
    "a.push_back(4)\n",
    "a.push_back(9)\n",
    "a.push_back(16)\n",
    "a.push_back(25)\n",
    "print(a)\n",
    "print(a.next.data)"
   ]
  },
  {
   "cell_type": "code",
   "execution_count": 9,
   "metadata": {
    "collapsed": false,
    "deletable": true,
    "editable": true
   },
   "outputs": [
    {
     "name": "stdout",
     "output_type": "stream",
     "text": [
      "(1,(4,(9,(16,(25,None)))))\n"
     ]
    }
   ],
   "source": [
    "print(a)"
   ]
  },
  {
   "cell_type": "code",
   "execution_count": 10,
   "metadata": {
    "collapsed": false,
    "deletable": true,
    "editable": true
   },
   "outputs": [
    {
     "data": {
      "text/plain": [
       "1"
      ]
     },
     "execution_count": 10,
     "metadata": {},
     "output_type": "execute_result"
    }
   ],
   "source": [
    "a.remove_elem(9)"
   ]
  },
  {
   "cell_type": "code",
   "execution_count": 11,
   "metadata": {
    "collapsed": false,
    "deletable": true,
    "editable": true
   },
   "outputs": [
    {
     "data": {
      "text/plain": [
       "<__main__.ListNode at 0x7f078418df60>"
      ]
     },
     "execution_count": 11,
     "metadata": {},
     "output_type": "execute_result"
    }
   ],
   "source": [
    "a.push_back(4)\n",
    "a.push_back(4)\n",
    "a.push_back(4)\n",
    "a.push_back(4)\n",
    "a.push_back(4)"
   ]
  },
  {
   "cell_type": "code",
   "execution_count": 12,
   "metadata": {
    "collapsed": false,
    "deletable": true,
    "editable": true
   },
   "outputs": [
    {
     "name": "stdout",
     "output_type": "stream",
     "text": [
      "(1,(4,(16,(25,(4,(4,(4,(4,(4,None)))))))))\n"
     ]
    }
   ],
   "source": [
    "print(a)"
   ]
  },
  {
   "cell_type": "code",
   "execution_count": 13,
   "metadata": {
    "collapsed": false,
    "deletable": true,
    "editable": true
   },
   "outputs": [
    {
     "data": {
      "text/plain": [
       "1"
      ]
     },
     "execution_count": 13,
     "metadata": {},
     "output_type": "execute_result"
    }
   ],
   "source": [
    "a.remove_elem(4)"
   ]
  },
  {
   "cell_type": "code",
   "execution_count": 14,
   "metadata": {
    "collapsed": false,
    "deletable": true,
    "editable": true
   },
   "outputs": [
    {
     "name": "stdout",
     "output_type": "stream",
     "text": [
      "(1,(16,(25,(4,(4,(4,(4,(4,None))))))))\n"
     ]
    }
   ],
   "source": [
    "print(a)"
   ]
  },
  {
   "cell_type": "code",
   "execution_count": 15,
   "metadata": {
    "collapsed": false,
    "deletable": true,
    "editable": true
   },
   "outputs": [
    {
     "data": {
      "text/plain": [
       "3"
      ]
     },
     "execution_count": 15,
     "metadata": {},
     "output_type": "execute_result"
    }
   ],
   "source": [
    "a.remove_elem(4,3)"
   ]
  },
  {
   "cell_type": "code",
   "execution_count": 16,
   "metadata": {
    "collapsed": false,
    "deletable": true,
    "editable": true
   },
   "outputs": [
    {
     "name": "stdout",
     "output_type": "stream",
     "text": [
      "(1,(16,(25,(4,(4,None)))))\n"
     ]
    }
   ],
   "source": [
    "print(a)"
   ]
  },
  {
   "cell_type": "code",
   "execution_count": 17,
   "metadata": {
    "collapsed": false,
    "deletable": true,
    "editable": true
   },
   "outputs": [
    {
     "name": "stdout",
     "output_type": "stream",
     "text": [
      "((1, 2),(1,(16,(25,(4,(4,None))))))\n"
     ]
    }
   ],
   "source": [
    "a=a.push_front((1,2))\n",
    "print(a)"
   ]
  },
  {
   "cell_type": "code",
   "execution_count": 18,
   "metadata": {
    "collapsed": false,
    "deletable": true,
    "editable": true,
    "scrolled": true
   },
   "outputs": [
    {
     "name": "stdout",
     "output_type": "stream",
     "text": [
      "((1, 2),(1,(16,(25,(4,(4,(Test,None)))))))\n"
     ]
    }
   ],
   "source": [
    "a=a.push_back(\"Test\")\n",
    "print(a)"
   ]
  },
  {
   "cell_type": "code",
   "execution_count": null,
   "metadata": {
    "collapsed": true,
    "deletable": true,
    "editable": true
   },
   "outputs": [],
   "source": []
  }
 ],
 "metadata": {
  "kernelspec": {
   "display_name": "Python 3",
   "language": "python",
   "name": "python3"
  },
  "language_info": {
   "codemirror_mode": {
    "name": "ipython",
    "version": 3
   },
   "file_extension": ".py",
   "mimetype": "text/x-python",
   "name": "python",
   "nbconvert_exporter": "python",
   "pygments_lexer": "ipython3",
   "version": "3.5.2"
  }
 },
 "nbformat": 4,
 "nbformat_minor": 2
}
