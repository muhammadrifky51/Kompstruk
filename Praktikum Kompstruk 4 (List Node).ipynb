{
 "cells": [
  {
   "cell_type": "code",
   "execution_count": 38,
   "metadata": {},
   "outputs": [],
   "source": [
    "#Download link: https://www.spoj.com/content/tjandra:ListNode.ipynb\n",
    "class ListNode:\n",
    "    def __init__(self,data):\n",
    "        self.data=data\n",
    "        self.next=None\n",
    "    def __str__(self):\n",
    "        return('({0},{1})'.format(self.data,self.next))\n",
    "    def __iter__(self):\n",
    "        self.now=self\n",
    "        return self\n",
    "    def __next__(self):\n",
    "        if self.now==None:\n",
    "            raise StopIteration\n",
    "        else:\n",
    "            ans=self.now\n",
    "            self.now=self.now.next\n",
    "            return ans\n",
    "    def __contains__(self,elem):\n",
    "        for x in self:\n",
    "            if x.data==elem:\n",
    "                return True\n",
    "        return False\n",
    "    def __len__(self):\n",
    "        ans=0\n",
    "        for x in self:\n",
    "            ans+=1\n",
    "        return ans\n",
    "    def push_front(self,elem):\n",
    "        tmp=ListNode(elem)\n",
    "        tmp.next=self\n",
    "        tmp.data=elem\n",
    "        return tmp\n",
    "    def push_back(self,elem):\n",
    "        tmp=self\n",
    "        while tmp.next!=None:\n",
    "            tmp=tmp.next\n",
    "        tmp.next=ListNode(elem)\n",
    "        return tmp\n",
    "    def remove_elem(self,elem,count=1):\n",
    "        tmp=self\n",
    "        ans=0\n",
    "        while tmp.next!=None:\n",
    "            if tmp.data==elem:\n",
    "                if tmp.next!=None:\n",
    "                    tmp.data=tmp.next.data\n",
    "                    tmp.next=tmp.next.next\n",
    "                else:\n",
    "                    tmp2=self\n",
    "                    while tmp2!=None:\n",
    "                        if tmp2.next==tmp:\n",
    "                            break\n",
    "                        tmp2=tmp2.next\n",
    "                    if tmp2!=None:\n",
    "                        tmp2.next=None\n",
    "                    else:\n",
    "                        print(\"Tidak dapat menghapus elemen tunggal\")\n",
    "                        return ans\n",
    "                count-=1\n",
    "                ans+=1\n",
    "                if count==0:break\n",
    "            else:\n",
    "                tmp=tmp.next\n",
    "        return ans\n",
    "    def insert_elem(self,elem,pos):\n",
    "        tmp=self\n",
    "        while pos!=0:\n",
    "            pos-=1\n",
    "            tmp=tmp.next\n",
    "            if tmp==None:\n",
    "                print(\"gagal, karena posisi tidak valid!\")\n",
    "                return\n",
    "        baru=ListNode(elem)\n",
    "        baru.next=tmp.next\n",
    "        tmp.next=baru\n",
    "        "
   ]
  },
  {
   "cell_type": "code",
   "execution_count": 39,
   "metadata": {},
   "outputs": [
    {
     "name": "stdout",
     "output_type": "stream",
     "text": [
      "(4,(7,(9,(11,None))))\n",
      "(4,(7,(9,(Ayam,(11,None)))))\n"
     ]
    }
   ],
   "source": [
    "x=ListNode(4)\n",
    "x.push_back(7)\n",
    "x.push_back(9)\n",
    "x.push_back(11)\n",
    "print(x)\n",
    "x.insert_elem(\"Ayam\",2)\n",
    "print(x)"
   ]
  },
  {
   "cell_type": "code",
   "execution_count": 2,
   "metadata": {},
   "outputs": [
    {
     "name": "stdout",
     "output_type": "stream",
     "text": [
      "(1,(4,(9,(16,(25,None)))))\n",
      "1\n",
      "4\n",
      "9\n",
      "16\n",
      "25\n",
      "True\n",
      "5\n",
      "(1,(4,(9,(16,(25,None)))))\n",
      "(4,(9,(16,(25,None))))\n",
      "(1,(4,(9,(16,(25,None)))))\n"
     ]
    }
   ],
   "source": [
    "a=ListNode(1)\n",
    "a.push_back(4)\n",
    "a.push_back(9)\n",
    "a.push_back(16)\n",
    "a.push_back(25)\n",
    "print(a)\n",
    "for x in a:\n",
    "    print(x.data)\n",
    "print(4 in a)\n",
    "print(len(a))\n",
    "print(a)\n",
    "a.remove_elem(1)\n",
    "print(a)\n",
    "a=a.push_front(1)\n",
    "print(a)"
   ]
  },
  {
   "cell_type": "code",
   "execution_count": 8,
   "metadata": {},
   "outputs": [
    {
     "name": "stdout",
     "output_type": "stream",
     "text": [
      "(1,None)\n",
      "(1,(4,(9,(16,(25,None)))))\n",
      "4\n"
     ]
    }
   ],
   "source": [
    "a=ListNode(1)\n",
    "print(a)\n",
    "a.push_back(4)\n",
    "a.push_back(9)\n",
    "a.push_back(16)\n",
    "a.push_back(25)\n",
    "print(a)\n",
    "print(a.next.data)"
   ]
  },
  {
   "cell_type": "code",
   "execution_count": 9,
   "metadata": {},
   "outputs": [
    {
     "name": "stdout",
     "output_type": "stream",
     "text": [
      "(1,(4,(9,(16,(25,None)))))\n"
     ]
    }
   ],
   "source": [
    "print(a)"
   ]
  },
  {
   "cell_type": "code",
   "execution_count": 13,
   "metadata": {},
   "outputs": [
    {
     "data": {
      "text/plain": [
       "0"
      ]
     },
     "execution_count": 13,
     "metadata": {},
     "output_type": "execute_result"
    }
   ],
   "source": [
    "a.remove_elem(9)"
   ]
  },
  {
   "cell_type": "code",
   "execution_count": 15,
   "metadata": {},
   "outputs": [
    {
     "data": {
      "text/plain": [
       "<__main__.ListNode at 0x7fb9d02bb860>"
      ]
     },
     "execution_count": 15,
     "metadata": {},
     "output_type": "execute_result"
    }
   ],
   "source": [
    "a.push_back(4)\n",
    "a.push_back(4)\n",
    "a.push_back(4)\n",
    "a.push_back(4)\n",
    "a.push_back(4)"
   ]
  },
  {
   "cell_type": "code",
   "execution_count": 16,
   "metadata": {},
   "outputs": [
    {
     "name": "stdout",
     "output_type": "stream",
     "text": [
      "(1,(4,(16,(25,(4,(4,(4,(4,(4,(4,None))))))))))\n"
     ]
    }
   ],
   "source": [
    "print(a)"
   ]
  },
  {
   "cell_type": "code",
   "execution_count": 17,
   "metadata": {},
   "outputs": [
    {
     "data": {
      "text/plain": [
       "1"
      ]
     },
     "execution_count": 17,
     "metadata": {},
     "output_type": "execute_result"
    }
   ],
   "source": [
    "a.remove_elem(4)"
   ]
  },
  {
   "cell_type": "code",
   "execution_count": 18,
   "metadata": {},
   "outputs": [
    {
     "name": "stdout",
     "output_type": "stream",
     "text": [
      "(1,(16,(25,(4,(4,(4,(4,(4,(4,None)))))))))\n"
     ]
    }
   ],
   "source": [
    "print(a)"
   ]
  },
  {
   "cell_type": "code",
   "execution_count": 19,
   "metadata": {},
   "outputs": [
    {
     "data": {
      "text/plain": [
       "3"
      ]
     },
     "execution_count": 19,
     "metadata": {},
     "output_type": "execute_result"
    }
   ],
   "source": [
    "a.remove_elem(4,3)"
   ]
  },
  {
   "cell_type": "code",
   "execution_count": 20,
   "metadata": {},
   "outputs": [
    {
     "name": "stdout",
     "output_type": "stream",
     "text": [
      "(1,(16,(25,(4,(4,(4,None))))))\n"
     ]
    }
   ],
   "source": [
    "print(a)"
   ]
  },
  {
   "cell_type": "code",
   "execution_count": null,
   "metadata": {},
   "outputs": [],
   "source": []
  }
 ],
 "metadata": {
  "kernelspec": {
   "display_name": "Python 3",
   "language": "python",
   "name": "python3"
  },
  "language_info": {
   "codemirror_mode": {
    "name": "ipython",
    "version": 3
   },
   "file_extension": ".py",
   "mimetype": "text/x-python",
   "name": "python",
   "nbconvert_exporter": "python",
   "pygments_lexer": "ipython3",
   "version": "3.6.5"
  }
 },
 "nbformat": 4,
 "nbformat_minor": 2
}
