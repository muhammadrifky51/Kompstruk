{
 "cells": [
  {
   "cell_type": "code",
   "execution_count": 30,
   "metadata": {},
   "outputs": [],
   "source": [
    "class Vector:\n",
    "    #Inisialisasi\n",
    "    def __init__(self,x):\n",
    "        self.vec=x\n",
    "        self.dim=len(x)\n",
    "    def get_vec(self):\n",
    "        return self.vec\n",
    "    def get_dim(self):\n",
    "        return self.dim\n",
    "    #Perkalian skalar\n",
    "    def scalar_mult(self,y):\n",
    "        for i in range(self.dim):\n",
    "            #self.vec[i]=self.vec[i]*y\n",
    "            self.vec[i]*=y\n",
    "        return self.vec\n",
    "    #Penjumlahan vector\n",
    "    def __add__(self,y):\n",
    "        #eksepsi\n",
    "        try:\n",
    "            y.get_dim()\n",
    "        except AttributeError:\n",
    "            y=Vector(y)\n",
    "        #cek dimensi\n",
    "        if self.dim!=y.get_dim():\n",
    "            print(\"Penjumlahan tak dapat dilakukan\")\n",
    "        else:\n",
    "            #Menjumlahkan\n",
    "            for i in range(self.dim):\n",
    "                #self.vec[i]=self.vec[i]+y.vec[i]\n",
    "                self.vec[i]+=y.vec[i]\n",
    "            return self.vec"
   ]
  },
  {
   "cell_type": "code",
   "execution_count": 31,
   "metadata": {},
   "outputs": [],
   "source": [
    "vec_x=Vector([2,3,4])\n",
    "vec_y=Vector([4,7,2])\n",
    "vec_z=Vector([1,2])\n",
    "not_vec=[3,2,1]"
   ]
  },
  {
   "cell_type": "code",
   "execution_count": 4,
   "metadata": {},
   "outputs": [
    {
     "data": {
      "text/plain": [
       "3"
      ]
     },
     "execution_count": 4,
     "metadata": {},
     "output_type": "execute_result"
    }
   ],
   "source": [
    "vec_x.get_dim()"
   ]
  },
  {
   "cell_type": "code",
   "execution_count": 10,
   "metadata": {},
   "outputs": [
    {
     "data": {
      "text/plain": [
       "[6, 9, 12]"
      ]
     },
     "execution_count": 10,
     "metadata": {},
     "output_type": "execute_result"
    }
   ],
   "source": [
    "vec_x.scalar_mult(3)"
   ]
  },
  {
   "cell_type": "code",
   "execution_count": 22,
   "metadata": {},
   "outputs": [
    {
     "data": {
      "text/plain": [
       "[6, 10, 6]"
      ]
     },
     "execution_count": 22,
     "metadata": {},
     "output_type": "execute_result"
    }
   ],
   "source": [
    "vec_x.vec_sum(vec_y) "
   ]
  },
  {
   "cell_type": "code",
   "execution_count": 17,
   "metadata": {},
   "outputs": [
    {
     "name": "stdout",
     "output_type": "stream",
     "text": [
      "Penjumlahan tak dapat dilakukan\n"
     ]
    }
   ],
   "source": [
    "vec_y.vec_sum(vec_z)"
   ]
  },
  {
   "cell_type": "code",
   "execution_count": 33,
   "metadata": {},
   "outputs": [
    {
     "ename": "AttributeError",
     "evalue": "'Vector' object has no attribute 'vec_sum'",
     "output_type": "error",
     "traceback": [
      "\u001b[1;31m---------------------------------------------------------------------------\u001b[0m",
      "\u001b[1;31mAttributeError\u001b[0m                            Traceback (most recent call last)",
      "\u001b[1;32m<ipython-input-33-b99546c991b3>\u001b[0m in \u001b[0;36m<module>\u001b[1;34m()\u001b[0m\n\u001b[1;32m----> 1\u001b[1;33m \u001b[0mvec_x\u001b[0m\u001b[1;33m.\u001b[0m\u001b[0mvec_sum\u001b[0m\u001b[1;33m(\u001b[0m\u001b[0mnot_vec\u001b[0m\u001b[1;33m)\u001b[0m\u001b[1;33m\u001b[0m\u001b[0m\n\u001b[0m\u001b[0;32m      2\u001b[0m \u001b[1;31m#vec_x+not_vec\u001b[0m\u001b[1;33m\u001b[0m\u001b[1;33m\u001b[0m\u001b[0m\n",
      "\u001b[1;31mAttributeError\u001b[0m: 'Vector' object has no attribute 'vec_sum'"
     ]
    }
   ],
   "source": [
    "vec_x.vec_sum(not_vec)\n",
    "#vec_x+not_vec"
   ]
  },
  {
   "cell_type": "code",
   "execution_count": 32,
   "metadata": {},
   "outputs": [
    {
     "data": {
      "text/plain": [
       "[6, 10, 6]"
      ]
     },
     "execution_count": 32,
     "metadata": {},
     "output_type": "execute_result"
    }
   ],
   "source": [
    "vec_x+vec_y"
   ]
  },
  {
   "cell_type": "code",
   "execution_count": null,
   "metadata": {},
   "outputs": [],
   "source": []
  }
 ],
 "metadata": {
  "kernelspec": {
   "display_name": "Python 3",
   "language": "python",
   "name": "python3"
  },
  "language_info": {
   "codemirror_mode": {
    "name": "ipython",
    "version": 3
   },
   "file_extension": ".py",
   "mimetype": "text/x-python",
   "name": "python",
   "nbconvert_exporter": "python",
   "pygments_lexer": "ipython3",
   "version": "3.6.5"
  }
 },
 "nbformat": 4,
 "nbformat_minor": 2
}
